{
 "cells": [
  {
   "cell_type": "code",
   "execution_count": 36,
   "metadata": {},
   "outputs": [
    {
     "name": "stdout",
     "output_type": "stream",
     "text": [
      "Original Data 7525\n",
      "Merged Data 7525\n"
     ]
    }
   ],
   "source": [
    "import pandas as pd\n",
    "import os\n",
    "\n",
    "pwd = os.getcwd()\n",
    "myData = pd.read_excel(pwd+\"/report_data.xlsx\",sheet_name=\"Edited_Data\")\n",
    "myData\n",
    "myDataset_modified = myData.copy()\n",
    "myDataset_modified\n",
    "\n",
    "\n",
    "columns_to_drop = ['Start Date', 'End Date', 'Email Address','Collector ID','IP Address', 'First Name', 'Last Name', 'Custom Data 1']\n",
    "columns_to_drop2 = ['Name of UCD - Open-Ended Response',\n",
    " 'E-mail address of the UCD - Open-Ended Response',\n",
    " 'Name of UNFPA Representative - Open-Ended Response',\n",
    " 'E-mail address of the UNFPA Representative - Open-Ended Response',\n",
    " 'Name of UNAIDS Prevention Focal Point - Open-Ended Response',\n",
    " 'E-mail address of the UNAIDS Prevention Focal Point - Open-Ended Response',\n",
    " 'Name of UNFPA Prevention Focal Point - Open-Ended Response',\n",
    " 'E-mail address of the UNFPA Prevention Focal Point - Open-Ended Response',\n",
    " 'Name of National Aids Commission (NAC) Prevention Focal Point - Open-Ended Response',\n",
    " 'E-mail address of the NAC Prevention Focal Point - Open-Ended Response',\n",
    " 'Name of Ministry of Health (MoH) Prevention Focal Point - Open-Ended Response',\n",
    " 'E-mail address of the MoH Prevention Focal Point - Open-Ended Response']\n",
    "\n",
    "\n",
    "#dropped unnecessary cols\n",
    "myDataset_modified = myDataset_modified.drop(columns = columns_to_drop)\n",
    "myDataset_modified = myDataset_modified.drop(columns = columns_to_drop2)\n",
    "myDataset_modified\n",
    "\n",
    "\n",
    "\n",
    "#prepare for melt\n",
    "id_vars = list(myDataset_modified.columns)[ : 2]\n",
    "value_vars = list(myDataset_modified.columns)[2 : ]\n",
    "\n",
    "#melt\n",
    "dataset_melted = myDataset_modified.melt(id_vars=id_vars, value_vars = value_vars, var_name=\"Question + Subquestion\", value_name=\"Answer\")\n",
    "dataset_melted\n",
    "\n",
    "questions_import = pd.read_excel(pwd + \"/report_data_1.xlsx\", sheet_name=\"Questions\")\n",
    "questions_import\n",
    "\n",
    "questions = questions_import.copy()\n",
    "questions.drop(columns=[\"Raw_Questions\",\"Raw_Subquestions\",\"Subquestions\",\"Questions_plus_subquestions\"], inplace=True)\n",
    "#\"Questions_plus_subquestions_TXT\"\n",
    "questions.dropna(inplace=True)\n",
    "questions\n",
    "\n",
    "\n",
    "\n",
    "dataset_merged = pd.merge(left=dataset_melted, right=questions, how=\"left\", left_on=\"Question + Subquestion\", right_on=\"Questions_plus_subquestions_TXT\")\n",
    "print(\"Original Data\", len(dataset_melted))\n",
    "print(\"Merged Data\", len(dataset_merged))\n",
    "dataset_merged\n",
    "dataset_merged.drop(columns=[\"Questions_plus_subquestions_TXT\"], inplace=True)\n",
    "\n",
    "output = dataset_merged\n",
    "\n",
    "\n",
    "#Sort by country then by Question Order\n",
    "output.sort_values(['Country (please select) - Response', 'QuestionOrder'], ascending=[True, True], inplace=True)\n",
    "\n",
    "output\n",
    "\n",
    "output.to_excel(pwd + \"/Final_Output.xlsx\", index=False)"
   ]
  },
  {
   "cell_type": "code",
   "execution_count": null,
   "metadata": {},
   "outputs": [],
   "source": []
  }
 ],
 "metadata": {
  "kernelspec": {
   "display_name": "Python 3",
   "language": "python",
   "name": "python3"
  },
  "language_info": {
   "codemirror_mode": {
    "name": "ipython",
    "version": 3
   },
   "file_extension": ".py",
   "mimetype": "text/x-python",
   "name": "python",
   "nbconvert_exporter": "python",
   "pygments_lexer": "ipython3",
   "version": "3.12.3"
  },
  "orig_nbformat": 4
 },
 "nbformat": 4,
 "nbformat_minor": 2
}
